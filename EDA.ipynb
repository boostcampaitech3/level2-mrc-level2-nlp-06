{
 "cells": [
  {
   "cell_type": "code",
   "execution_count": 57,
   "id": "2090166e-0af8-4840-affc-3e8828c52323",
   "metadata": {},
   "outputs": [
    {
     "name": "stdout",
     "output_type": "stream",
     "text": [
      "DatasetDict({\n",
      "    train: Dataset({\n",
      "        features: ['__index_level_0__', 'answers', 'context', 'document_id', 'id', 'question', 'title'],\n",
      "        num_rows: 3952\n",
      "    })\n",
      "    validation: Dataset({\n",
      "        features: ['__index_level_0__', 'answers', 'context', 'document_id', 'id', 'question', 'title'],\n",
      "        num_rows: 240\n",
      "    })\n",
      "})\n"
     ]
    }
   ],
   "source": [
    "# train_dataset을 불러오고 싶은 경우\n",
    "from datasets import load_from_disk\n",
    "dataset = load_from_disk(\"../data/train_dataset/\")\n",
    "print(dataset)"
   ]
  },
  {
   "cell_type": "code",
   "execution_count": 58,
   "id": "ef66b874-8205-40e5-b0b5-209c7325130d",
   "metadata": {},
   "outputs": [
    {
     "data": {
      "text/plain": [
       "Dataset({\n",
       "    features: ['__index_level_0__', 'answers', 'context', 'document_id', 'id', 'question', 'title'],\n",
       "    num_rows: 3952\n",
       "})"
      ]
     },
     "execution_count": 58,
     "metadata": {},
     "output_type": "execute_result"
    }
   ],
   "source": [
    "dataset['train']"
   ]
  },
  {
   "cell_type": "code",
   "execution_count": 59,
   "id": "9970698f-0d43-4c06-84e6-118c1a666bc5",
   "metadata": {},
   "outputs": [
    {
     "data": {
      "text/plain": [
       "{'title': '미국 상원',\n",
       " 'context': '미국 상의원 또는 미국 상원(United States Senate)은 양원제인 미국 의회의 상원이다.\\\\n\\\\n미국 부통령이 상원의장이 된다. 각 주당 2명의 상원의원이 선출되어 100명의 상원의원으로 구성되어 있다. 임기는 6년이며, 2년마다 50개주 중 1/3씩 상원의원을 새로 선출하여 연방에 보낸다.\\\\n\\\\n미국 상원은 미국 하원과는 다르게 미국 대통령을 수반으로 하는 미국 연방 행정부에 각종 동의를 하는 기관이다. 하원이 세금과 경제에 대한 권한, 대통령을 포함한 대다수의 공무원을 파면할 권한을 갖고 있는 국민을 대표하는 기관인 반면 상원은 미국의 주를 대표한다. 즉 캘리포니아주, 일리노이주 같이 주 정부와 주 의회를 대표하는 기관이다. 그로 인하여 군대의 파병, 관료의 임명에 대한 동의, 외국 조약에 대한 승인 등 신속을 요하는 권한은 모두 상원에게만 있다. 그리고 하원에 대한 견제 역할(하원의 법안을 거부할 권한 등)을 담당한다. 2년의 임기로 인하여 급진적일 수밖에 없는 하원은 지나치게 급진적인 법안을 만들기 쉽다. 대표적인 예로 건강보험 개혁 당시 하원이 미국 연방 행정부에게 퍼블릭 옵션(공공건강보험기관)의 조항이 있는 반면 상원의 경우 하원안이 지나치게 세금이 많이 든다는 이유로 퍼블릭 옵션 조항을 제외하고 비영리건강보험기관이나 보험회사가 담당하도록 한 것이다. 이 경우처럼 상원은 하원이나 내각책임제가 빠지기 쉬운 국가들의 국회처럼 걸핏하면 발생하는 의회의 비정상적인 사태를 방지하는 기관이다. 상원은 급박한 처리사항의 경우가 아니면 법안을 먼저 내는 경우가 드물고 하원이 만든 법안을 수정하여 다시 하원에 되돌려보낸다. 이러한 방식으로 단원제가 빠지기 쉬운 함정을 미리 방지하는 것이다.날짜=2017-02-05',\n",
       " 'question': '대통령을 포함한 미국의 행정부 견제권을 갖는 국가 기관은?',\n",
       " 'id': 'mrc-1-000067',\n",
       " 'answers': {'answer_start': [235], 'text': ['하원']},\n",
       " 'document_id': 18293,\n",
       " '__index_level_0__': 42}"
      ]
     },
     "execution_count": 59,
     "metadata": {},
     "output_type": "execute_result"
    }
   ],
   "source": [
    "dataset['train'][0]"
   ]
  },
  {
   "cell_type": "code",
   "execution_count": 60,
   "id": "a6082e81-2335-4afd-b0e3-2fd9ca3ff87d",
   "metadata": {},
   "outputs": [
    {
     "data": {
      "text/plain": [
       "{'title': '강희제',\n",
       " 'context': '강희제는 강화된 황권으로 거의 황제 중심의 독단적으로 나라를 이끌어 갔기에 자칫 전제 독재의 가능성이 보일 수도 있었으나, 스스로 황권을 조절하고 정치의 일부는 재상들이나 대신들과 의논하였으며 당시 궁핍하게 살고 있는 한족들의 사정을 잘 알고 있던 한족 대신들의 의견을 수용하여 정책을 실행하고 선정을 베풀었다. 프랑스의 예수회 선교사 부베는 루이 14세에게 다음과 같이 보고하였다. \\\\n강희제는 세상에서 가장 부유한 군주입니다. 그럼에도 황제인 그의 생활용품들은 사치스러움과 화려함과는 거리가 멀다 못해 소박하기 그지없습니다. 역대 제왕들 가운데 전례없는 일입니다.\\\\n강희제 스스로도 자신이 직접 쓴 《근검록》에서 다음과 같이 쓰고 있다\\\\n모든 비용은 백성들의 피땀으로 얻어진 것이니 주인된 황제로서 절제하고 절제함은 당연한 것이 아닌가\\\\n\\\\n이런 강희제의 인자한 정치는 한족이 만주족의 청나라를 지지하게 만드는 데에 크게 일조하였다. 1717년(강희 56년) 강희제는 〈고별상유〉(告別上諭), 즉 마지막으로 백성들에게 바치는 글을 남겼는데 강희제는 “한 가지 일에 부지런하지 않으면 온 천하에 근심을 끼치고, 한 순간에 부지런하지 않으면 천추만대에 우환거리를 남긴다.”라고 역설하였다. 또한 “제왕이 천하를 다스림에 능력이 있는 자를 가까이 두고, 백성들의 세금을 낮추어 주어야 하며, 백성들의 마음을 하나로 묶고, 위태로움이 생기기 전에 나라를 보호하며, 혼란이 있기 전에 이를 먼저 파악하여 잘 다스리고, 관대하고 엄격함의 조화를 이루어 나라를 위한 계책을 도모해야 한다.”라고 후대의 황제에게도 이를 훈계하였다. 강희제는 황제로서 자식과 같은 백성들에게 이런 당부의 말을 남겨 황제로서의 도리를 다하려 하였다.',\n",
       " 'question': '강희제가 1717년에 쓴 글은 누구를 위해 쓰여졌는가?',\n",
       " 'id': 'mrc-1-000362',\n",
       " 'answers': {'answer_start': [510], 'text': ['백성']},\n",
       " 'document_id': 5028,\n",
       " '__index_level_0__': 230}"
      ]
     },
     "execution_count": 60,
     "metadata": {},
     "output_type": "execute_result"
    }
   ],
   "source": [
    "dataset['train'][2]"
   ]
  },
  {
   "cell_type": "code",
   "execution_count": 61,
   "id": "71f5503d-8c79-4388-b7c7-9ae302792920",
   "metadata": {},
   "outputs": [
    {
     "data": {
      "text/plain": [
       "'mrc-1-000067'"
      ]
     },
     "execution_count": 61,
     "metadata": {},
     "output_type": "execute_result"
    }
   ],
   "source": [
    "dataset['train'][0]['id']"
   ]
  },
  {
   "cell_type": "code",
   "execution_count": 62,
   "id": "7bcbe4f7-6a8c-4719-acb1-35a6ac2b151b",
   "metadata": {},
   "outputs": [
    {
     "data": {
      "text/plain": [
       "{'train': 3952, 'validation': 240}"
      ]
     },
     "execution_count": 62,
     "metadata": {},
     "output_type": "execute_result"
    }
   ],
   "source": [
    "# train / validation 개수\n",
    "dataset.num_rows"
   ]
  },
  {
   "cell_type": "code",
   "execution_count": 63,
   "id": "a5aaffb4-d065-4650-aa35-584cb1299f43",
   "metadata": {},
   "outputs": [
    {
     "data": {
      "text/plain": [
       "3952"
      ]
     },
     "execution_count": 63,
     "metadata": {},
     "output_type": "execute_result"
    }
   ],
   "source": [
    "# train 질문 id 중복 여부\n",
    "len(dataset['train'].unique('id'))"
   ]
  },
  {
   "cell_type": "code",
   "execution_count": 64,
   "id": "10f05675-9976-4526-bc60-e72847c8d461",
   "metadata": {},
   "outputs": [
    {
     "data": {
      "text/plain": [
       "240"
      ]
     },
     "execution_count": 64,
     "metadata": {},
     "output_type": "execute_result"
    }
   ],
   "source": [
    "# validation 질문 id 중복 여부\n",
    "len(dataset['validation'].unique('id'))"
   ]
  },
  {
   "cell_type": "code",
   "execution_count": 65,
   "id": "8fe90a0c-c910-4714-959b-7ab7fb915165",
   "metadata": {},
   "outputs": [],
   "source": [
    "lens = {'id': [], 'len' : []}\n",
    "for i in range(len(dataset['train'])):\n",
    "    lens['id'].append(dataset['train'][i]['id'])\n",
    "    lens['len'].append((len(dataset['train'][i]['context'])))\n",
    "    "
   ]
  },
  {
   "cell_type": "code",
   "execution_count": 66,
   "id": "e5f719b9-1c3e-4846-8a98-899980b4d966",
   "metadata": {},
   "outputs": [
    {
     "name": "stdout",
     "output_type": "stream",
     "text": [
      "Min_lengths: 512, Max_length: 2059\n",
      "920.2206477732793\n"
     ]
    }
   ],
   "source": [
    "import numpy as np\n",
    "\n",
    "# context 길이 측정\n",
    "minl = min(lens['len'])\n",
    "maxl = max(lens['len'])\n",
    "print(f'Min_lengths: {minl}, Max_length: {maxl}')\n",
    "\n",
    "average = np.mean(lens['len'])\n",
    "print(average)"
   ]
  },
  {
   "cell_type": "code",
   "execution_count": 67,
   "id": "67d90cdf-91cc-4ebc-a1e7-eb88a2f8c447",
   "metadata": {},
   "outputs": [
    {
     "name": "stdout",
     "output_type": "stream",
     "text": [
      "길이\t\t갯수\n",
      "0 ~ 700:\t1348개\n",
      "701 ~ 1000:\t1366개\n",
      "1001 ~ 1400:\t796개\n",
      "1401 ~ 1700:\t246개\n",
      "1701 ~ :\t196개\n"
     ]
    }
   ],
   "source": [
    "# 500 ~ 700: 1348\n",
    "# 701 ~ 1000: 1366\n",
    "# 1001 ~ 1400: 796\n",
    "# 1401 ~ 1700: 246\n",
    "# 1701 ~     : 196\n",
    "groupA = []\n",
    "groupB = []\n",
    "groupC = []\n",
    "groupD = []\n",
    "groupE = []\n",
    "\n",
    "for i in range(len(dataset['train'])):\n",
    "    lengths = len(dataset['train'][i]['context'])\n",
    "    if lengths < 701:\n",
    "        groupA.append(lengths)\n",
    "    elif lengths < 1001:\n",
    "        groupB.append(lengths)\n",
    "    elif lengths < 1401:\n",
    "        groupC.append(lengths)\n",
    "    elif lengths < 1701:\n",
    "        groupD.append(lengths)\n",
    "    else:\n",
    "        groupE.append(lengths)\n",
    "\n",
    "#print(len(groupA),len(groupB),len(groupC),len(groupD),len(groupE))\n",
    "print('길이\\t\\t갯수')\n",
    "print(f'0 ~ 700:\\t{len(groupA)}개')\n",
    "print(f'701 ~ 1000:\\t{len(groupB)}개')\n",
    "print(f'1001 ~ 1400:\\t{len(groupC)}개')\n",
    "print(f'1401 ~ 1700:\\t{len(groupD)}개')\n",
    "print(f'1701 ~ :\\t{len(groupE)}개')"
   ]
  },
  {
   "cell_type": "code",
   "execution_count": 79,
   "id": "5324482b-d391-46d4-bf0b-135f203e7a70",
   "metadata": {},
   "outputs": [],
   "source": [
    "# answer_satrt가 0 이면 답 없음\n",
    "for i in range(len(dataset['train'])):\n",
    "    if dataset['train'][i]['answers']['answer_start'] == 0:\n",
    "        print(i)\n",
    "\n",
    "for i in range(len(dataset['validation'])):\n",
    "    if dataset['validation'][i]['answers']['answer_start'] == 0:\n",
    "        print(i)"
   ]
  },
  {
   "cell_type": "code",
   "execution_count": 10,
   "id": "c97782f6-e973-4444-add2-aa7a1e15025b",
   "metadata": {},
   "outputs": [
    {
     "data": {
      "text/plain": [
       "<AxesSubplot:>"
      ]
     },
     "execution_count": 10,
     "metadata": {},
     "output_type": "execute_result"
    },
    {
     "data": {
      "image/png": "[encoded data removed]",
      "text/plain": [
       "<Figure size 432x288 with 1 Axes>"
      ]
     },
     "metadata": {},
     "output_type": "display_data"
    }
   ],
   "source": [
    "import matplotlib.pyplot as plt\n",
    "import seaborn as sns\n",
    "\n",
    "sns.set()\n",
    "\n",
    "sns.lineplot(data=lens)"
   ]
  },
  {
   "cell_type": "code",
   "execution_count": 40,
   "id": "c8b3b579-9768-4854-9e44-8a542e0b7ccb",
   "metadata": {},
   "outputs": [
    {
     "data": {
      "text/plain": [
       "<bound method DatasetDict.unique of DatasetDict({\n",
       "    train: Dataset({\n",
       "        features: ['__index_level_0__', 'answers', 'context', 'document_id', 'id', 'question', 'title'],\n",
       "        num_rows: 3952\n",
       "    })\n",
       "    validation: Dataset({\n",
       "        features: ['__index_level_0__', 'answers', 'context', 'document_id', 'id', 'question', 'title'],\n",
       "        num_rows: 240\n",
       "    })\n",
       "})>"
      ]
     },
     "execution_count": 40,
     "metadata": {},
     "output_type": "execute_result"
    }
   ],
   "source": [
    "dataset.unique\n",
    "\n",
    "#fig, axes = plt.subplots(1, figsize=(18,7))\n",
    "#axes[0].bar(groupA)"
   ]
  },
  {
   "cell_type": "code",
   "execution_count": null,
   "id": "fa66d700-b2f6-4291-860f-82d996e55acb",
   "metadata": {},
   "outputs": [],
   "source": []
  }
 ],
 "metadata": {
  "kernelspec": {
   "display_name": "Python 3 (ipykernel)",
   "language": "python",
   "name": "python3"
  },
  "language_info": {
   "codemirror_mode": {
    "name": "ipython",
    "version": 3
   },
   "file_extension": ".py",
   "mimetype": "text/x-python",
   "name": "python",
   "nbconvert_exporter": "python",
   "pygments_lexer": "ipython3",
   "version": "3.8.5"
  }
 },
 "nbformat": 4,
 "nbformat_minor": 5
}
